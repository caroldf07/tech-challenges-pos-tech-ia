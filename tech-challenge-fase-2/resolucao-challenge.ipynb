{
 "cells": [
  {
   "cell_type": "markdown",
   "metadata": {},
   "source": [
    "# Caso de uso"
   ]
  },
  {
   "cell_type": "markdown",
   "metadata": {},
   "source": [
    "### Alocação de recursos: Resistência do concreto"
   ]
  },
  {
   "cell_type": "markdown",
   "metadata": {},
   "source": [
    "Escolhi fazer o tech challenge focado no estudo de resistência (Feature Compression Know - FCK) do concreto por dois motivos:\n",
    "\n",
    "1. Minha primeira formação é em engenharia civil e sei que esse é um dos cálculos mais realizados na área a ponto de ser feito e refeito várias vezes mesmo utilizando sistemas para que seja garantido a segurança quando a obra estiver pronta e não haja nenhuma ruptura/trinca no concreto;\n",
    "\n",
    "2. Gosto do assunto mesmo tendo migrado para a área de tecnologia."
   ]
  },
  {
   "cell_type": "markdown",
   "metadata": {},
   "source": [
    "### Objetivo"
   ]
  },
  {
   "cell_type": "markdown",
   "metadata": {},
   "source": [
    "O objetivo aqui será encontrar a composição de concreto que fornece a maior resistência (FCK) em MPa dentro da população fornecida.\n",
    "\n",
    "<span style=\"color:red\">Importante ressaltar que todo concreto deve ser estruturado e estudado conforme a necessidade da obra, sendo assim, nenhum resultado que for obtido aqui poderá e nem deverá ser utilizado em nenhuma obra de construção civil sem prévio estudo do fim da utilização do concreto.</span>"
   ]
  },
  {
   "cell_type": "markdown",
   "metadata": {},
   "source": [
    "# Importando os dados"
   ]
  },
  {
   "cell_type": "code",
   "execution_count": 18,
   "metadata": {},
   "outputs": [
    {
     "data": {
      "text/html": [
       "<div>\n",
       "<style scoped>\n",
       "    .dataframe tbody tr th:only-of-type {\n",
       "        vertical-align: middle;\n",
       "    }\n",
       "\n",
       "    .dataframe tbody tr th {\n",
       "        vertical-align: top;\n",
       "    }\n",
       "\n",
       "    .dataframe thead th {\n",
       "        text-align: right;\n",
       "    }\n",
       "</style>\n",
       "<table border=\"1\" class=\"dataframe\">\n",
       "  <thead>\n",
       "    <tr style=\"text-align: right;\">\n",
       "      <th></th>\n",
       "      <th>cimento</th>\n",
       "      <th>escória</th>\n",
       "      <th>cinza</th>\n",
       "      <th>água</th>\n",
       "      <th>superplastificante</th>\n",
       "      <th>brita</th>\n",
       "      <th>areia</th>\n",
       "      <th>idade</th>\n",
       "      <th>resistência</th>\n",
       "    </tr>\n",
       "  </thead>\n",
       "  <tbody>\n",
       "    <tr>\n",
       "      <th>0</th>\n",
       "      <td>141.3</td>\n",
       "      <td>212.0</td>\n",
       "      <td>0.0</td>\n",
       "      <td>203.5</td>\n",
       "      <td>0.0</td>\n",
       "      <td>971.8</td>\n",
       "      <td>748.5</td>\n",
       "      <td>28</td>\n",
       "      <td>29.89</td>\n",
       "    </tr>\n",
       "    <tr>\n",
       "      <th>1</th>\n",
       "      <td>168.9</td>\n",
       "      <td>42.2</td>\n",
       "      <td>124.3</td>\n",
       "      <td>158.3</td>\n",
       "      <td>10.8</td>\n",
       "      <td>1080.8</td>\n",
       "      <td>796.2</td>\n",
       "      <td>14</td>\n",
       "      <td>23.51</td>\n",
       "    </tr>\n",
       "    <tr>\n",
       "      <th>2</th>\n",
       "      <td>250.0</td>\n",
       "      <td>0.0</td>\n",
       "      <td>95.7</td>\n",
       "      <td>187.4</td>\n",
       "      <td>5.5</td>\n",
       "      <td>956.9</td>\n",
       "      <td>861.2</td>\n",
       "      <td>28</td>\n",
       "      <td>29.22</td>\n",
       "    </tr>\n",
       "    <tr>\n",
       "      <th>3</th>\n",
       "      <td>266.0</td>\n",
       "      <td>114.0</td>\n",
       "      <td>0.0</td>\n",
       "      <td>228.0</td>\n",
       "      <td>0.0</td>\n",
       "      <td>932.0</td>\n",
       "      <td>670.0</td>\n",
       "      <td>28</td>\n",
       "      <td>45.85</td>\n",
       "    </tr>\n",
       "    <tr>\n",
       "      <th>4</th>\n",
       "      <td>154.8</td>\n",
       "      <td>183.4</td>\n",
       "      <td>0.0</td>\n",
       "      <td>193.3</td>\n",
       "      <td>9.1</td>\n",
       "      <td>1047.4</td>\n",
       "      <td>696.7</td>\n",
       "      <td>28</td>\n",
       "      <td>18.29</td>\n",
       "    </tr>\n",
       "  </tbody>\n",
       "</table>\n",
       "</div>"
      ],
      "text/plain": [
       "   cimento  escória  cinza   água  superplastificante   brita  areia  idade  \\\n",
       "0    141.3    212.0    0.0  203.5                 0.0   971.8  748.5     28   \n",
       "1    168.9     42.2  124.3  158.3                10.8  1080.8  796.2     14   \n",
       "2    250.0      0.0   95.7  187.4                 5.5   956.9  861.2     28   \n",
       "3    266.0    114.0    0.0  228.0                 0.0   932.0  670.0     28   \n",
       "4    154.8    183.4    0.0  193.3                 9.1  1047.4  696.7     28   \n",
       "\n",
       "   resistência  \n",
       "0        29.89  \n",
       "1        23.51  \n",
       "2        29.22  \n",
       "3        45.85  \n",
       "4        18.29  "
      ]
     },
     "execution_count": 18,
     "metadata": {},
     "output_type": "execute_result"
    }
   ],
   "source": [
    "import pandas as pd\n",
    "import random\n",
    "\n",
    "dataset = pd.read_csv(\"./base-desafio/concrete.csv\")\n",
    "\n",
    "dataset.head()\n"
   ]
  },
  {
   "cell_type": "markdown",
   "metadata": {},
   "source": [
    "# Exploração dos dados"
   ]
  },
  {
   "cell_type": "code",
   "execution_count": 13,
   "metadata": {},
   "outputs": [
    {
     "data": {
      "text/plain": [
       "(1030, 9)"
      ]
     },
     "execution_count": 13,
     "metadata": {},
     "output_type": "execute_result"
    }
   ],
   "source": [
    "dataset.shape"
   ]
  },
  {
   "cell_type": "code",
   "execution_count": 14,
   "metadata": {},
   "outputs": [
    {
     "name": "stdout",
     "output_type": "stream",
     "text": [
      "<class 'pandas.core.frame.DataFrame'>\n",
      "RangeIndex: 1030 entries, 0 to 1029\n",
      "Data columns (total 9 columns):\n",
      " #   Column              Non-Null Count  Dtype  \n",
      "---  ------              --------------  -----  \n",
      " 0   cimento             1030 non-null   float64\n",
      " 1   escória             1030 non-null   float64\n",
      " 2   cinza               1030 non-null   float64\n",
      " 3   água                1030 non-null   float64\n",
      " 4   superplastificante  1030 non-null   float64\n",
      " 5   brita               1030 non-null   float64\n",
      " 6   areia               1030 non-null   float64\n",
      " 7   idade               1030 non-null   int64  \n",
      " 8   resistência         1030 non-null   float64\n",
      "dtypes: float64(8), int64(1)\n",
      "memory usage: 72.6 KB\n"
     ]
    }
   ],
   "source": [
    "dataset.info()"
   ]
  },
  {
   "cell_type": "code",
   "execution_count": 10,
   "metadata": {},
   "outputs": [
    {
     "data": {
      "text/plain": [
       "cimento               0\n",
       "escória               0\n",
       "cinza                 0\n",
       "água                  0\n",
       "superplastificante    0\n",
       "brita                 0\n",
       "areia                 0\n",
       "idade                 0\n",
       "resistência           0\n",
       "dtype: int64"
      ]
     },
     "execution_count": 10,
     "metadata": {},
     "output_type": "execute_result"
    }
   ],
   "source": [
    "dataset.isnull().sum()"
   ]
  },
  {
   "cell_type": "markdown",
   "metadata": {},
   "source": [
    "Não temos dados nulos então podemos seguir com o processo de criação do algoritmo genético"
   ]
  },
  {
   "cell_type": "markdown",
   "metadata": {},
   "source": [
    "# Parâmetros"
   ]
  },
  {
   "cell_type": "code",
   "execution_count": 32,
   "metadata": {},
   "outputs": [],
   "source": [
    "import numpy as np\n",
    "\n",
    "# Resistência à compressão do concreto target\n",
    "fck_target = 100\n",
    "\n",
    "# Parâmetros de entrada\n",
    "n_concretos = dataset.size\n",
    "tamanho_populacao = 100\n",
    "n_geracoes = None\n",
    "probabilidade_mutacao = 0.5\n",
    "concretes_composition = np.array(dataset)"
   ]
  },
  {
   "cell_type": "markdown",
   "metadata": {},
   "source": [
    "# População inicial"
   ]
  },
  {
   "cell_type": "code",
   "execution_count": 37,
   "metadata": {},
   "outputs": [],
   "source": [
    "def gera_populacao(concretes_composition, tamanho_populacao):\n",
    "    concretes_composition = concretes_composition.tolist()\n",
    "    return [random.sample(concretes_composition, len(concretes_composition)) for _ in range(tamanho_populacao)]\n",
    "\n",
    "\n",
    "populacao = gera_populacao(concretes_composition, tamanho_populacao)"
   ]
  },
  {
   "cell_type": "markdown",
   "metadata": {},
   "source": [
    "# Função fitness"
   ]
  },
  {
   "cell_type": "code",
   "execution_count": null,
   "metadata": {},
   "outputs": [],
   "source": [
    "def calcula_fitness(resistencia):\n",
    "    return 1 / (1 + abs(fck_target - resistencia))\n"
   ]
  }
 ],
 "metadata": {
  "kernelspec": {
   "display_name": "Python 3",
   "language": "python",
   "name": "python3"
  },
  "language_info": {
   "codemirror_mode": {
    "name": "ipython",
    "version": 3
   },
   "file_extension": ".py",
   "mimetype": "text/x-python",
   "name": "python",
   "nbconvert_exporter": "python",
   "pygments_lexer": "ipython3",
   "version": "3.12.8"
  }
 },
 "nbformat": 4,
 "nbformat_minor": 2
}
